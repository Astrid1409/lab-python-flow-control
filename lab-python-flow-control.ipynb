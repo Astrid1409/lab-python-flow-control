{
 "cells": [
  {
   "cell_type": "markdown",
   "id": "d3bfc191-8885-42ee-b0a0-bbab867c6f9f",
   "metadata": {
    "tags": []
   },
   "source": [
    "# Lab | Flow Control"
   ]
  },
  {
   "cell_type": "markdown",
   "id": "3851fcd1-cf98-4653-9c89-e003b7ec9400",
   "metadata": {},
   "source": [
    "## Exercise: Managing Customer Orders Optimized\n",
    "\n",
    "In the last lab, you were starting an online store that sells various products. To ensure smooth operations, you developed a program that manages customer orders and inventory.\n",
    "\n",
    "You did so without using flow control. Let's go a step further and improve this code.\n",
    "\n",
    "Follow the steps below to complete the exercise:\n",
    "\n",
    "1. Look at your code from the lab data structures, and improve repeated code with loops.\n",
    "\n",
    "2. Instead of asking the user to input the name of three products that a customer wants to order, do the following:\n",
    "    \n",
    "    a. Prompt the user to enter the name of a product that a customer wants to order.\n",
    "    \n",
    "    b. Add the product name to the \"customer_orders\" set.\n",
    "    \n",
    "    c. Ask the user if they want to add another product (yes/no).\n",
    "    \n",
    "    d. Continue the loop until the user does not want to add another product.\n",
    "\n",
    "3. Instead of updating the inventory by subtracting 1 from the quantity of each product, only do it for  the products that were ordered (those in \"customer_orders\")."
   ]
  },
  {
   "cell_type": "code",
   "execution_count": 3,
   "id": "8e947f55-55e3-4eb8-9579-ff8869651c3e",
   "metadata": {},
   "outputs": [],
   "source": [
    "products= [\"t-shirt\", \"mug\", \"hat\", \"book\", \"keychain\"]"
   ]
  },
  {
   "cell_type": "code",
   "execution_count": 4,
   "id": "5f5a75d9-fece-4732-9c68-ecf12bcfd353",
   "metadata": {},
   "outputs": [],
   "source": [
    "inventory={}"
   ]
  },
  {
   "cell_type": "code",
   "execution_count": 5,
   "id": "b81977b7-e3d2-4571-80a7-f4d20f8b8ecf",
   "metadata": {},
   "outputs": [
    {
     "name": "stdin",
     "output_type": "stream",
     "text": [
      "dime cuantos productos tenemos 9\n",
      "dime cuantos productos tenemos 8\n",
      "dime cuantos productos tenemos 7\n",
      "dime cuantos productos tenemos 6\n",
      "dime cuantos productos tenemos 5\n"
     ]
    }
   ],
   "source": [
    "for product in products:\n",
    "    inventory[product]= int(input(\"dime cuantos productos tenemos\"))"
   ]
  },
  {
   "cell_type": "code",
   "execution_count": 6,
   "id": "1ad430ee-5bfd-4615-8bd1-8fe3e873f423",
   "metadata": {},
   "outputs": [
    {
     "data": {
      "text/plain": [
       "{'t-shirt': 9, 'mug': 8, 'hat': 7, 'book': 6, 'keychain': 5}"
      ]
     },
     "execution_count": 6,
     "metadata": {},
     "output_type": "execute_result"
    }
   ],
   "source": [
    "inventory"
   ]
  },
  {
   "cell_type": "code",
   "execution_count": 7,
   "id": "0d937521-5ac9-45cf-b176-5207974f30ea",
   "metadata": {},
   "outputs": [],
   "source": [
    "custumer_orders = set()"
   ]
  },
  {
   "cell_type": "code",
   "execution_count": 8,
   "id": "4d78ec98-c05c-47a0-a568-9cfb74965e02",
   "metadata": {},
   "outputs": [
    {
     "data": {
      "text/plain": [
       "[0, 1, 2]"
      ]
     },
     "execution_count": 8,
     "metadata": {},
     "output_type": "execute_result"
    }
   ],
   "source": [
    "list(range(3))"
   ]
  },
  {
   "cell_type": "code",
   "execution_count": 9,
   "id": "4aaff1c2-e538-496b-a49e-62bfda0c9103",
   "metadata": {},
   "outputs": [
    {
     "name": "stdin",
     "output_type": "stream",
     "text": [
      "dime que productos quieres? hat\n",
      "dime que productos quieres? book\n",
      "dime que productos quieres? keychain\n"
     ]
    }
   ],
   "source": [
    "for i in range(3):    \n",
    "    elemento = input(\"dime que productos quieres?\")\n",
    "    custumer_orders.add(elemento)"
   ]
  },
  {
   "cell_type": "code",
   "execution_count": 10,
   "id": "b82d28be-5a0a-4f84-96ee-12ec900936bf",
   "metadata": {},
   "outputs": [
    {
     "name": "stdout",
     "output_type": "stream",
     "text": [
      "{'book', 'keychain', 'hat'}\n"
     ]
    }
   ],
   "source": [
    "print(custumer_orders)"
   ]
  },
  {
   "cell_type": "code",
   "execution_count": 11,
   "id": "39bd10d0-69f3-4963-a306-50354191046b",
   "metadata": {},
   "outputs": [
    {
     "data": {
      "text/plain": [
       "3"
      ]
     },
     "execution_count": 11,
     "metadata": {},
     "output_type": "execute_result"
    }
   ],
   "source": [
    "#paso 7\n",
    "total_products_ordered= len(custumer_orders)\n",
    "total_products_ordered"
   ]
  },
  {
   "cell_type": "code",
   "execution_count": 12,
   "id": "a8049696-c7da-4c79-bcaa-67c83fc0542f",
   "metadata": {},
   "outputs": [
    {
     "data": {
      "text/plain": [
       "5"
      ]
     },
     "execution_count": 12,
     "metadata": {},
     "output_type": "execute_result"
    }
   ],
   "source": [
    "total_available = len(inventory)\n",
    "total_available"
   ]
  },
  {
   "cell_type": "code",
   "execution_count": 13,
   "id": "f7d14b0b-f11b-425d-8c5f-bebc8af540cd",
   "metadata": {},
   "outputs": [
    {
     "name": "stdin",
     "output_type": "stream",
     "text": [
      "Quieres agregar otro producto? si\n",
      "dime que productos quieres agregar? mug\n",
      "Quieres agregar otro producto? no\n"
     ]
    },
    {
     "name": "stdout",
     "output_type": "stream",
     "text": [
      "Gracias por tu compra\n"
     ]
    }
   ],
   "source": [
    "pregunta = input(\"Quieres agregar otro producto?\")\n",
    "respuesta = pregunta.lower()\n",
    "while respuesta == \"si\":\n",
    "    extra = input(\"dime que productos quieres agregar?\")\n",
    "    custumer_orders.add(extra)\n",
    "    pregunta = input(\"Quieres agregar otro producto?\")\n",
    "    respuesta = pregunta.lower()\n",
    "    \n",
    "print(\"Gracias por tu compra\")\n"
   ]
  },
  {
   "cell_type": "code",
   "execution_count": 14,
   "id": "ca517814-b568-4039-9ff5-0336b4beb368",
   "metadata": {},
   "outputs": [
    {
     "name": "stdout",
     "output_type": "stream",
     "text": [
      "{'mug', 'book', 'keychain', 'hat'}\n",
      "{'t-shirt': 9, 'mug': 8, 'hat': 7, 'book': 6, 'keychain': 5}\n"
     ]
    }
   ],
   "source": [
    "print(custumer_orders)\n",
    "print(inventory)\n"
   ]
  },
  {
   "cell_type": "code",
   "execution_count": 15,
   "id": "615f4d66-ada6-4d04-b021-cf40c5c9070c",
   "metadata": {},
   "outputs": [
    {
     "data": {
      "text/plain": [
       "4"
      ]
     },
     "execution_count": 15,
     "metadata": {},
     "output_type": "execute_result"
    }
   ],
   "source": [
    "total_products_ordered= len(custumer_orders)\n",
    "total_products_ordered"
   ]
  },
  {
   "cell_type": "code",
   "execution_count": 16,
   "id": "8ef03d34-791c-478f-85cf-72b4787e120c",
   "metadata": {},
   "outputs": [
    {
     "data": {
      "text/plain": [
       "int"
      ]
     },
     "execution_count": 16,
     "metadata": {},
     "output_type": "execute_result"
    }
   ],
   "source": [
    "type(total_products_ordered)"
   ]
  },
  {
   "cell_type": "code",
   "execution_count": 17,
   "id": "f4842719-94a0-4159-b421-b0db9c492a10",
   "metadata": {},
   "outputs": [
    {
     "data": {
      "text/plain": [
       "0.8"
      ]
     },
     "execution_count": 17,
     "metadata": {},
     "output_type": "execute_result"
    }
   ],
   "source": [
    "percentage_products_ordered = total_products_ordered/total_available\n",
    "percentage_products_ordered"
   ]
  },
  {
   "cell_type": "code",
   "execution_count": 18,
   "id": "bc4f4adc-6961-4557-9981-c6fc89c2b4eb",
   "metadata": {},
   "outputs": [
    {
     "data": {
      "text/plain": [
       "int"
      ]
     },
     "execution_count": 18,
     "metadata": {},
     "output_type": "execute_result"
    }
   ],
   "source": [
    "type(inventory[product])"
   ]
  },
  {
   "cell_type": "code",
   "execution_count": 20,
   "id": "247038d5-3137-44f8-9253-439bba28e65f",
   "metadata": {},
   "outputs": [],
   "source": [
    "for product in custumer_orders:\n",
    "    inventory[product] -= 1\n"
   ]
  },
  {
   "cell_type": "code",
   "execution_count": 22,
   "id": "ce93651c-3f66-47c5-affe-2ef954e4fb96",
   "metadata": {},
   "outputs": [
    {
     "data": {
      "text/plain": [
       "{'t-shirt': 9, 'mug': 7, 'hat': 6, 'book': 5, 'keychain': 4}"
      ]
     },
     "execution_count": 22,
     "metadata": {},
     "output_type": "execute_result"
    }
   ],
   "source": [
    "inventory"
   ]
  }
 ],
 "metadata": {
  "kernelspec": {
   "display_name": "Python 3 (ipykernel)",
   "language": "python",
   "name": "python3"
  },
  "language_info": {
   "codemirror_mode": {
    "name": "ipython",
    "version": 3
   },
   "file_extension": ".py",
   "mimetype": "text/x-python",
   "name": "python",
   "nbconvert_exporter": "python",
   "pygments_lexer": "ipython3",
   "version": "3.12.4"
  }
 },
 "nbformat": 4,
 "nbformat_minor": 5
}
