{
 "cells": [
  {
   "cell_type": "markdown",
   "id": "d3bfc191-8885-42ee-b0a0-bbab867c6f9f",
   "metadata": {
    "tags": []
   },
   "source": [
    "# Lab | Flow Control"
   ]
  },
  {
   "cell_type": "markdown",
   "id": "3851fcd1-cf98-4653-9c89-e003b7ec9400",
   "metadata": {},
   "source": [
    "## Exercise: Managing Customer Orders Optimized\n",
    "\n",
    "In the last lab, you were starting an online store that sells various products. To ensure smooth operations, you developed a program that manages customer orders and inventory.\n",
    "\n",
    "You did so without using flow control. Let's go a step further and improve this code.\n",
    "\n",
    "Follow the steps below to complete the exercise:\n",
    "\n",
    "1. Look at your code from the lab data structures, and improve repeated code with loops.\n",
    "\n",
    "2. Instead of asking the user to input the name of three products that a customer wants to order, do the following:\n",
    "    \n",
    "    a. Prompt the user to enter the name of a product that a customer wants to order.\n",
    "    \n",
    "    b. Add the product name to the \"customer_orders\" set.\n",
    "    \n",
    "    c. Ask the user if they want to add another product (yes/no).\n",
    "    \n",
    "    d. Continue the loop until the user does not want to add another product.\n",
    "\n",
    "3. Instead of updating the inventory by subtracting 1 from the quantity of each product, only do it for  the products that were ordered (those in \"customer_orders\")."
   ]
  },
  {
   "cell_type": "code",
   "execution_count": 3,
   "id": "8e947f55-55e3-4eb8-9579-ff8869651c3e",
   "metadata": {},
   "outputs": [],
   "source": [
    "products= [\"t-shirt\", \"mug\", \"hat\", \"book\", \"keychain\"]"
   ]
  },
  {
   "cell_type": "code",
   "execution_count": 4,
   "id": "5f5a75d9-fece-4732-9c68-ecf12bcfd353",
   "metadata": {},
   "outputs": [],
   "source": [
    "inventory={}"
   ]
  },
  {
   "cell_type": "code",
   "execution_count": 5,
   "id": "b81977b7-e3d2-4571-80a7-f4d20f8b8ecf",
   "metadata": {},
   "outputs": [
    {
     "name": "stdin",
     "output_type": "stream",
     "text": [
      "dime cuantos productos tenemos 3\n",
      "dime cuantos productos tenemos 4\n",
      "dime cuantos productos tenemos 5\n",
      "dime cuantos productos tenemos 3\n",
      "dime cuantos productos tenemos 4\n"
     ]
    }
   ],
   "source": [
    "for product in products:\n",
    "    inventory[product]= int(input(\"dime cuantos productos tenemos\"))"
   ]
  },
  {
   "cell_type": "code",
   "execution_count": 6,
   "id": "1ad430ee-5bfd-4615-8bd1-8fe3e873f423",
   "metadata": {},
   "outputs": [
    {
     "data": {
      "text/plain": [
       "{'t-shirt': 3, 'mug': 4, 'hat': 5, 'book': 3, 'keychain': 4}"
      ]
     },
     "execution_count": 6,
     "metadata": {},
     "output_type": "execute_result"
    }
   ],
   "source": [
    "inventory"
   ]
  },
  {
   "cell_type": "code",
   "execution_count": 7,
   "id": "0d937521-5ac9-45cf-b176-5207974f30ea",
   "metadata": {},
   "outputs": [],
   "source": [
    "custumer_orders = set()"
   ]
  },
  {
   "cell_type": "code",
   "execution_count": 8,
   "id": "4aaff1c2-e538-496b-a49e-62bfda0c9103",
   "metadata": {},
   "outputs": [
    {
     "name": "stdin",
     "output_type": "stream",
     "text": [
      "dime que productos quieres? mug\n",
      "dime que productos quieres? book\n",
      "dime que productos quieres? hat\n",
      "Quieres agregar otro producto? no\n"
     ]
    },
    {
     "name": "stdout",
     "output_type": "stream",
     "text": [
      "Gracias por tu compra\n"
     ]
    }
   ],
   "source": [
    "# paso 2\n",
    "for i in range(3):    \n",
    "    elemento = input(\"dime que productos quieres?\")\n",
    "    custumer_orders.add(elemento)\n",
    "\n",
    "pregunta = input(\"Quieres agregar otro producto?\")\n",
    "respuesta = pregunta.lower()\n",
    "while respuesta == \"si\":\n",
    "    extra = input(\"dime que productos quieres agregar?\")\n",
    "    custumer_orders.add(extra)\n",
    "    pregunta = input(\"Quieres agregar otro producto?\")\n",
    "    respuesta = pregunta.lower()\n",
    "    \n",
    "print(\"Gracias por tu compra\")\n",
    "\n"
   ]
  },
  {
   "cell_type": "code",
   "execution_count": 9,
   "id": "ca517814-b568-4039-9ff5-0336b4beb368",
   "metadata": {},
   "outputs": [
    {
     "name": "stdout",
     "output_type": "stream",
     "text": [
      "{'mug', 'book', 'hat'}\n",
      "{'t-shirt': 3, 'mug': 4, 'hat': 5, 'book': 3, 'keychain': 4}\n"
     ]
    }
   ],
   "source": [
    "print(custumer_orders)\n",
    "print(inventory)\n"
   ]
  },
  {
   "cell_type": "code",
   "execution_count": 10,
   "id": "247038d5-3137-44f8-9253-439bba28e65f",
   "metadata": {},
   "outputs": [
    {
     "name": "stdout",
     "output_type": "stream",
     "text": [
      "{'t-shirt': 3, 'mug': 3, 'hat': 4, 'book': 2, 'keychain': 4}\n"
     ]
    }
   ],
   "source": [
    "#3 actualizacion de inventario\n",
    "for product in custumer_orders:\n",
    "    inventory[product] -= 1\n",
    "print(inventory)"
   ]
  },
  {
   "cell_type": "code",
   "execution_count": null,
   "id": "ce93651c-3f66-47c5-affe-2ef954e4fb96",
   "metadata": {},
   "outputs": [],
   "source": []
  }
 ],
 "metadata": {
  "kernelspec": {
   "display_name": "Python 3 (ipykernel)",
   "language": "python",
   "name": "python3"
  },
  "language_info": {
   "codemirror_mode": {
    "name": "ipython",
    "version": 3
   },
   "file_extension": ".py",
   "mimetype": "text/x-python",
   "name": "python",
   "nbconvert_exporter": "python",
   "pygments_lexer": "ipython3",
   "version": "3.12.4"
  }
 },
 "nbformat": 4,
 "nbformat_minor": 5
}
